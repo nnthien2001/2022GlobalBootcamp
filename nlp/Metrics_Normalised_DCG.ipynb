{
  "cells": [
    {
      "cell_type": "markdown",
      "metadata": {
        "id": "XhTaXwCKVdnS"
      },
      "source": [
        "# First things first\n",
        "* Click **File -> Save a copy in Drive** and click **Open in new tab** in the pop-up window to save your progress in Google Drive.\n",
        "* Click **Runtime -> Change runtime type** and select **GPU** in Hardware accelerator box to enable faster GPU training.\n"
      ]
    },
    {
      "cell_type": "markdown",
      "metadata": {
        "id": "7lPOwDG-Spr7"
      },
      "source": [
        "# If you're using Colab notebook.\n"
      ]
    },
    {
      "cell_type": "code",
      "execution_count": 1,
      "metadata": {
        "id": "BsUOKuh2Sse3"
      },
      "outputs": [],
      "source": [
        "try:\n",
        "    import google.colab\n",
        "    from google.colab.output import clear as clear_output\n",
        "    IN_COLAB = True\n",
        "except:\n",
        "    IN_COLAB = False\n",
        "    from IPython.display import clear_output as clear_output\n",
        "\n"
      ]
    },
    {
      "cell_type": "code",
      "execution_count": 2,
      "metadata": {
        "id": "9kShej8cgz-5"
      },
      "outputs": [],
      "source": [
        "# import required package\n",
        "from sklearn.metrics import ndcg_score, dcg_score\n",
        "import numpy as np"
      ]
    },
    {
      "cell_type": "code",
      "execution_count": 3,
      "metadata": {
        "id": "S4nEQUToo70D"
      },
      "outputs": [],
      "source": [
        "# Draw random data.\n",
        "n = 20\n",
        "draw_score = lambda up: np.random.randint(0, up, size=(1, n))\n",
        "draw_score = lambda up: np.random.choice(up, size=(1, n))\n"
      ]
    },
    {
      "cell_type": "code",
      "execution_count": 4,
      "metadata": {
        "colab": {
          "base_uri": "https://localhost:8080/"
        },
        "id": "O9kB_X0Kg6JY",
        "outputId": "045ab859-58fe-490f-ec42-5d0d42f18ef3"
      },
      "outputs": [
        {
          "name": "stdout",
          "output_type": "stream",
          "text": [
            "[[74  7 81 45 28 57 73 94 18 53 97 45 33 75  4 77 92  7  6 68]]\n",
            "[[97 94 92 81 77 75 74 73 68 57 53 45 45 33 28 18  7  7  6  4]]\n"
          ]
        }
      ],
      "source": [
        "# Releveance scores in output order \n",
        "relevance_score = draw_score(100)\n",
        "\n",
        "# Releveance scores in Ideal order \n",
        "ideal_relevance = -np.sort(-relevance_score)\n",
        "\n",
        "print(relevance_score, ideal_relevance, sep=\"\\n\")"
      ]
    },
    {
      "cell_type": "code",
      "execution_count": 4,
      "metadata": {
        "id": "OQ3QYVVOm8cx"
      },
      "outputs": [],
      "source": []
    },
    {
      "cell_type": "code",
      "execution_count": 5,
      "metadata": {
        "colab": {
          "base_uri": "https://localhost:8080/"
        },
        "id": "0MGugDGkiqcP",
        "outputId": "9c5bbab5-cf34-4226-9615-1dfeb46bf34f"
      },
      "outputs": [
        {
          "data": {
            "text/plain": [
              "1034"
            ]
          },
          "execution_count": 5,
          "metadata": {},
          "output_type": "execute_result"
        }
      ],
      "source": [
        "# Cumulative Gain\n",
        "cg = np.sum(relevance_score)\n",
        "cg\n"
      ]
    },
    {
      "cell_type": "code",
      "execution_count": 18,
      "metadata": {
        "id": "PdyzVcBGkmWD"
      },
      "outputs": [],
      "source": [
        "def dcg_function(score):\n",
        "    \"\"\"\n",
        "      score: np array of relevance score.\n",
        "      returns: Discounted Cumulative Gain, float.\n",
        "    \"\"\"\n",
        "    # Generated the np array of log2([2, 3, ..... n+1])\n",
        "    x = np.arange(start=2, stop=score.shape[-1] + 2, step=1)\n",
        "    x = x.reshape((1, x.shape[0]))\n",
        "    # print(x.shape, score.shape)\n",
        "\n",
        "    # Divided the score by log value, sum then return.\n",
        "    score = np.sum(score / np.log2(x))\n",
        "    return score"
      ]
    },
    {
      "cell_type": "code",
      "execution_count": 19,
      "metadata": {
        "colab": {
          "base_uri": "https://localhost:8080/"
        },
        "id": "1s_KnxaFi1rX",
        "outputId": "361d26df-4771-4868-e7c5-1ed97cdda64a"
      },
      "outputs": [
        {
          "data": {
            "text/plain": [
              "(371.65966556966066, 442.5774873626731)"
            ]
          },
          "execution_count": 19,
          "metadata": {},
          "output_type": "execute_result"
        }
      ],
      "source": [
        "# Discounted Cumulative gain\n",
        "dcg = dcg_function(relevance_score)\n",
        "\n",
        "# Ideal Discounted Cumulative gain\n",
        "idcg = dcg_function(ideal_relevance)\n",
        "\n",
        "dcg, idcg\n"
      ]
    },
    {
      "cell_type": "code",
      "execution_count": 20,
      "metadata": {
        "colab": {
          "base_uri": "https://localhost:8080/"
        },
        "id": "4ujifIA2hcZz",
        "outputId": "0aa82a77-9bc3-4754-e3e6-69aeb47cdccf"
      },
      "outputs": [
        {
          "data": {
            "text/plain": [
              "0.8397617958030063"
            ]
          },
          "execution_count": 20,
          "metadata": {},
          "output_type": "execute_result"
        }
      ],
      "source": [
        "ndcg = dcg / idcg\n",
        "ndcg\n"
      ]
    },
    {
      "cell_type": "markdown",
      "metadata": {
        "id": "wsNkLwIfxcxf"
      },
      "source": [
        "# Compare with package functions value.\n",
        "\n",
        "\n"
      ]
    },
    {
      "cell_type": "code",
      "execution_count": 21,
      "metadata": {
        "colab": {
          "base_uri": "https://localhost:8080/"
        },
        "id": "E8iI7nf00DHv",
        "outputId": "e5fc0cd4-c4a6-4ab6-8815-d2359ba5e6ff"
      },
      "outputs": [
        {
          "data": {
            "text/plain": [
              "(array([[10, 13,  4, 18,  5,  7, 20, 14,  1, 15, 11,  9, 17,  8, 16, 12,\n",
              "          3, 19,  2,  6]], dtype=int64),\n",
              " array([[74,  7, 81, 45, 28, 57, 73, 94, 18, 53, 97, 45, 33, 75,  4, 77,\n",
              "         92,  7,  6, 68]]),\n",
              " array([[97, 94, 92, 81, 77, 75, 74, 73, 68, 57, 53, 45, 45, 33, 28, 18,\n",
              "          7,  7,  6,  4]]))"
            ]
          },
          "execution_count": 21,
          "metadata": {},
          "output_type": "execute_result"
        }
      ],
      "source": [
        "# Because the \"dcg_score\" function in sklearn takes the ranking position as input, so we cannot use this:\n",
        "# dcg = dcg_score(ideal_relevance, relevance_score)\n",
        "# Instead....\n",
        "\n",
        "order_of_relevance_score = -np.argsort(relevance_score)[:, ::-1] + n\n",
        "\n",
        "order_of_relevance_score, relevance_score, ideal_relevance"
      ]
    },
    {
      "cell_type": "code",
      "execution_count": 24,
      "metadata": {
        "colab": {
          "base_uri": "https://localhost:8080/"
        },
        "id": "-UJXAk-cxcxg",
        "outputId": "78c40ba1-5f23-40f9-b526-2d348e2f8079"
      },
      "outputs": [
        {
          "name": "stdout",
          "output_type": "stream",
          "text": [
            "DCG score :  371.65966556966066\n",
            "IDCG score :  442.577487362673\n",
            "nDCG score :  0.8397617958030064\n",
            "nDCG score (from package function) :  0.8317136907974455\n"
          ]
        }
      ],
      "source": [
        "# DCG score \n",
        "\n",
        "dcg = dcg_score(ideal_relevance, order_of_relevance_score) \n",
        "print(\"DCG score : \", dcg) \n",
        "   \n",
        "# IDCG score \n",
        "idcg = dcg_score(ideal_relevance, ideal_relevance) \n",
        "print(\"IDCG score : \", idcg) \n",
        "   \n",
        "# Normalized DCG score \n",
        "ndcg = dcg / idcg\n",
        "print(\"nDCG score : \", ndcg) \n",
        "   \n",
        "# or we can use the scikit-learn ndcg_score package \n",
        "print(\"nDCG score (from package function) : \",\n",
        "      ndcg_score(ideal_relevance, relevance_score)) "
      ]
    },
    {
      "cell_type": "markdown",
      "metadata": {
        "id": "LYV5zv8YnVzd"
      },
      "source": [
        "### Answers for the dcg function."
      ]
    },
    {
      "cell_type": "code",
      "execution_count": 23,
      "metadata": {
        "id": "lJELWr48nUv4"
      },
      "outputs": [],
      "source": [
        "def dcg_function(score):\n",
        "    \"\"\"\n",
        "      score: np array of relevance score.\n",
        "      returns: Discounted Cumulative Gain, float.\n",
        "    \"\"\"\n",
        "    # Generated the np array of log2([2, 3, ..... n+1])\n",
        "    x = np.asarray(range(score.shape[-1])) + 2\n",
        "\n",
        "    # Divided the score by log value, sum then return.\n",
        "    return np.sum(score / np.log2(x))"
      ]
    }
  ],
  "metadata": {
    "accelerator": "GPU",
    "colab": {
      "collapsed_sections": [],
      "name": "BootCamp - Metrics - Normalised DCG",
      "provenance": []
    },
    "kernelspec": {
      "display_name": "Python 3.10.0 ('.venv': venv)",
      "language": "python",
      "name": "python3"
    },
    "language_info": {
      "codemirror_mode": {
        "name": "ipython",
        "version": 3
      },
      "file_extension": ".py",
      "mimetype": "text/x-python",
      "name": "python",
      "nbconvert_exporter": "python",
      "pygments_lexer": "ipython3",
      "version": "3.10.0"
    },
    "vscode": {
      "interpreter": {
        "hash": "881621f52f5e994ae267cd7db937900eaa9d03f22234e22f8521ed97ad90d703"
      }
    }
  },
  "nbformat": 4,
  "nbformat_minor": 0
}
